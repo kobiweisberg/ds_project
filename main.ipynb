{
 "cells": [
  {
   "cell_type": "markdown",
   "metadata": {},
   "source": [
    "# imports"
   ]
  },
  {
   "cell_type": "code",
   "execution_count": 53,
   "metadata": {},
   "outputs": [],
   "source": [
    "from sklearn.datasets import fetch_20newsgroups\n",
    "from pprint import pprint\n",
    "import os\n",
    "import pickle\n",
    "import numpy as np\n",
    "from sklearn.metrics import confusion_matrix\n",
    "import matplotlib.pyplot as plt\n",
    "import time\n",
    "%matplotlib inline"
   ]
  },
  {
   "cell_type": "markdown",
   "metadata": {},
   "source": [
    "import our libaries"
   ]
  },
  {
   "cell_type": "code",
   "execution_count": 62,
   "metadata": {},
   "outputs": [],
   "source": [
    "import preprocess as pp\n",
    "import vectorizer as vr\n",
    "import cluster as clst\n",
    "import analyze as anlz"
   ]
  },
  {
   "cell_type": "markdown",
   "metadata": {},
   "source": [
    "# Setup"
   ]
  },
  {
   "cell_type": "code",
   "execution_count": 55,
   "metadata": {},
   "outputs": [],
   "source": [
    "t = time.localtime()\n",
    "timestamp = time.strftime('%b_%d_%Y_%H%M', t)\n",
    "np.random.seed(4)\n",
    "if not os.path.exists('results'):\n",
    "    os.mkdir('results')\n",
    "if not os.path.exists('results/' + timestamp):\n",
    "    os.mkdir('results/' + timestamp)\n",
    "with open('results/' + timestamp +'/log.txt','w') as ff:\n",
    "    with open('main.ipynb', 'r') as fp:\n",
    "        ff.write(fp.read())"
   ]
  },
  {
   "cell_type": "markdown",
   "metadata": {},
   "source": [
    "parmeters"
   ]
  },
  {
   "cell_type": "code",
   "execution_count": 56,
   "metadata": {},
   "outputs": [],
   "source": [
    "min_df = 1e-4#1e-10\n",
    "max_df = 0.05#1\n",
    "k = 200\n",
    "max_num = 1000#len(emails)"
   ]
  },
  {
   "cell_type": "code",
   "execution_count": 57,
   "metadata": {},
   "outputs": [],
   "source": [
    "newsgroups_train = fetch_20newsgroups(subset='train')\n",
    "labels = newsgroups_train.target\n",
    "labels_names = newsgroups_train.target_names\n",
    "#TODO: consider take only body\n",
    "emails = newsgroups_train.data\n",
    "emails = emails[:max_num]"
   ]
  },
  {
   "cell_type": "markdown",
   "metadata": {},
   "source": [
    "# preprocess"
   ]
  },
  {
   "cell_type": "code",
   "execution_count": 58,
   "metadata": {},
   "outputs": [],
   "source": [
    "emails = [pp.clean_text(e) for e in emails]"
   ]
  },
  {
   "cell_type": "markdown",
   "metadata": {},
   "source": [
    "# vectorizing"
   ]
  },
  {
   "cell_type": "markdown",
   "metadata": {},
   "source": [
    "Bag Of Words"
   ]
  },
  {
   "cell_type": "code",
   "execution_count": 17,
   "metadata": {},
   "outputs": [
    {
     "ename": "NameError",
     "evalue": "name 'sample_vec' is not defined",
     "output_type": "error",
     "traceback": [
      "\u001b[1;31m---------------------------------------------------------------------------\u001b[0m",
      "\u001b[1;31mNameError\u001b[0m                                 Traceback (most recent call last)",
      "\u001b[1;32m<ipython-input-17-558a15b29307>\u001b[0m in \u001b[0;36m<module>\u001b[1;34m()\u001b[0m\n\u001b[0;32m      1\u001b[0m \u001b[0mcv\u001b[0m\u001b[1;33m,\u001b[0m\u001b[0mtokenized_emails\u001b[0m \u001b[1;33m=\u001b[0m \u001b[0mvr\u001b[0m\u001b[1;33m.\u001b[0m\u001b[0mtokenizer\u001b[0m\u001b[1;33m(\u001b[0m\u001b[0memails\u001b[0m\u001b[1;33m,\u001b[0m\u001b[0mmin_df\u001b[0m\u001b[1;33m,\u001b[0m\u001b[0mmax_df\u001b[0m\u001b[1;33m)\u001b[0m\u001b[1;33m\u001b[0m\u001b[0m\n\u001b[1;32m----> 2\u001b[1;33m \u001b[1;33m{\u001b[0m\u001b[0mk\u001b[0m\u001b[1;33m:\u001b[0m \u001b[0mv\u001b[0m \u001b[1;32mfor\u001b[0m \u001b[0mk\u001b[0m\u001b[1;33m,\u001b[0m \u001b[0mv\u001b[0m \u001b[1;32min\u001b[0m \u001b[0mzip\u001b[0m\u001b[1;33m(\u001b[0m\u001b[0mcv\u001b[0m\u001b[1;33m.\u001b[0m\u001b[0mget_feature_names\u001b[0m\u001b[1;33m(\u001b[0m\u001b[1;33m)\u001b[0m\u001b[1;33m,\u001b[0m \u001b[0msample_vec\u001b[0m\u001b[1;33m.\u001b[0m\u001b[0mtoarray\u001b[0m\u001b[1;33m(\u001b[0m\u001b[1;33m)\u001b[0m\u001b[1;33m[\u001b[0m\u001b[1;36m0\u001b[0m\u001b[1;33m]\u001b[0m\u001b[1;33m)\u001b[0m \u001b[1;32mif\u001b[0m \u001b[0mv\u001b[0m \u001b[1;33m>\u001b[0m \u001b[1;36m0\u001b[0m\u001b[1;33m}\u001b[0m\u001b[1;33m\u001b[0m\u001b[0m\n\u001b[0m\u001b[0;32m      3\u001b[0m \u001b[1;31m# to get vocabulary names use: cv.get_feature_names()\u001b[0m\u001b[1;33m\u001b[0m\u001b[1;33m\u001b[0m\u001b[0m\n\u001b[0;32m      4\u001b[0m \u001b[0mvoc_names\u001b[0m \u001b[1;33m=\u001b[0m \u001b[0mcv\u001b[0m\u001b[1;33m.\u001b[0m\u001b[0mget_feature_names\u001b[0m\u001b[1;33m(\u001b[0m\u001b[1;33m)\u001b[0m\u001b[1;33m\u001b[0m\u001b[0m\n\u001b[0;32m      5\u001b[0m \u001b[1;31m#to get BOW for each mail use: tokenized_emails.toarray()\u001b[0m\u001b[1;33m\u001b[0m\u001b[1;33m\u001b[0m\u001b[0m\n",
      "\u001b[1;31mNameError\u001b[0m: name 'sample_vec' is not defined"
     ]
    }
   ],
   "source": [
    "cv,tokenized_emails = vr.tokenizer(emails,min_df,max_df)\n",
    "#{k: v for k, v in zip(cv.get_feature_names(), sample_vec.toarray()[0]) if v > 0}\n",
    "# to get vocabulary names use: cv.get_feature_names()\n",
    "voc_names = cv.get_feature_names()\n",
    "#to get BOW for each mail use: tokenized_emails.toarray()\n",
    "emails_representation = tokenized_emails.toarray()"
   ]
  },
  {
   "cell_type": "markdown",
   "metadata": {},
   "source": [
    "TF-IDF"
   ]
  },
  {
   "cell_type": "code",
   "execution_count": 59,
   "metadata": {},
   "outputs": [],
   "source": [
    "tf_idf = vr.tf_idf(emails,min_df,max_df)\n",
    "emails_representation = tf_idf.toarray()"
   ]
  },
  {
   "cell_type": "markdown",
   "metadata": {},
   "source": [
    "Word2Vec"
   ]
  },
  {
   "cell_type": "code",
   "execution_count": null,
   "metadata": {},
   "outputs": [],
   "source": [
    "emails_representation = vr.BOW_w2v(emails)"
   ]
  },
  {
   "cell_type": "markdown",
   "metadata": {},
   "source": [
    "# clustering"
   ]
  },
  {
   "cell_type": "markdown",
   "metadata": {},
   "source": [
    "k-means with cosine distancce"
   ]
  },
  {
   "cell_type": "code",
   "execution_count": null,
   "metadata": {},
   "outputs": [],
   "source": [
    "print('compute kmeans clusters. vector shape:{}'.format(emails_representation.shape[1]))\n",
    "clusters,kmns_class = clst.kmeans_cosine_dist(emails_representation,k)"
   ]
  },
  {
   "cell_type": "markdown",
   "metadata": {},
   "source": [
    "k-means with euclidean distance"
   ]
  },
  {
   "cell_type": "code",
   "execution_count": null,
   "metadata": {},
   "outputs": [],
   "source": [
    "clusters,kmns_class = clst.kmeans(emails_representation,k)"
   ]
  },
  {
   "cell_type": "markdown",
   "metadata": {},
   "source": [
    "Hierchical clustring"
   ]
  },
  {
   "cell_type": "code",
   "execution_count": 60,
   "metadata": {},
   "outputs": [],
   "source": [
    "(clusters, _) = clst.hirarchical(emails_representation, k,aff='euclidean',link='ward')"
   ]
  },
  {
   "cell_type": "markdown",
   "metadata": {},
   "source": [
    "# analayze"
   ]
  },
  {
   "cell_type": "code",
   "execution_count": 68,
   "metadata": {},
   "outputs": [],
   "source": [
    "\n",
    "def evaluate_many2one_conf_mat(mat, num_of_labels):\n",
    "    mat = mat[:num_of_labels, :]\n",
    "    labes_conf_mat = np.zeros((num_of_labels,num_of_labels))\n",
    "    for col in mat.T:\n",
    "        predicted_label = np.argmax(col)\n",
    "        labes_conf_mat[:,predicted_label] += col\n",
    "\n",
    "    return labes_conf_mat\n",
    "\n",
    "def conf_mat2scores(cm):\n",
    "    TP = np.diag(cm)\n",
    "    FP = np.sum(cm, axis=0) - TP\n",
    "    FN = np.sum(cm, axis=1) - TP\n",
    "    TN = []\n",
    "    for i in range(cm.shape[0]):\n",
    "        temp = np.delete(cm, i, 0)  # delete ith row\n",
    "        temp = np.delete(temp, i, 1)  # delete ith column\n",
    "        TN.append(sum(sum(temp)))\n",
    "    accuracy = np.sum(TP)/np.sum(cm)\n",
    "    precision = TP / (TP + FP)\n",
    "    recall = TP / (TP + FN)\n",
    "    return accuracy,precision,recall"
   ]
  },
  {
   "cell_type": "code",
   "execution_count": 78,
   "metadata": {},
   "outputs": [
    {
     "name": "stdout",
     "output_type": "stream",
     "text": [
      "acc: 0.6100761925743103 (random=0.27801000393028824)\n",
      "accuracy:  0.617\n",
      "accuracy random labeling:  0.287\n"
     ]
    }
   ],
   "source": [
    "number_of_labels = 20\n",
    "random_clst = np.random.randint(0, k, max_num)\n",
    "conf_mat_rand = confusion_matrix(labels[:max_num], random_clst)\n",
    "conf_mat = confusion_matrix(labels[:max_num], clusters)\n",
    "\n",
    "ret_rand = anlz.evaluate_many2one(conf_mat_rand,number_of_labels)\n",
    "ret = anlz.evaluate_many2one(conf_mat, number_of_labels)\n",
    "print('acc: {} (random={})'.format(np.mean(ret),np.mean(ret_rand)))\n",
    "\n",
    "labels_conf_mat = evaluate_many2one_conf_mat(conf_mat,number_of_labels)\n",
    "labels_conf_mat_rand = evaluate_many2one_conf_mat(conf_mat_rand,number_of_labels)\n",
    "acc, precision,recall = conf_mat2scores(labels_conf_mat)\n",
    "print('accuracy: ', acc)\n",
    "acc_rand, precision_rand,recall_rand = conf_mat2scores(labels_conf_mat_rand)\n",
    "print('accuracy random labeling: ', acc_rand)"
   ]
  },
  {
   "cell_type": "code",
   "execution_count": null,
   "metadata": {},
   "outputs": [],
   "source": [
    "with open('results/' + timestamp + '/kmeans.pkl','wb') as wf:\n",
    "    pickle.dump(conf_mat,wf)"
   ]
  },
  {
   "cell_type": "markdown",
   "metadata": {},
   "source": [
    "### visualization"
   ]
  },
  {
   "cell_type": "code",
   "execution_count": 80,
   "metadata": {},
   "outputs": [
    {
     "data": {
      "image/png": "[encoded data removed]",
      "text/plain": [
       "<matplotlib.figure.Figure at 0x2b8907f6438>"
      ]
     },
     "metadata": {},
     "output_type": "display_data"
    },
    {
     "data": {
      "image/png": "[encoded data removed]",
      "text/plain": [
       "<matplotlib.figure.Figure at 0x2b88f912cc0>"
      ]
     },
     "metadata": {},
     "output_type": "display_data"
    },
    {
     "data": {
      "image/png": "[encoded data removed]",
      "text/plain": [
       "<matplotlib.figure.Figure at 0x2b89018c940>"
      ]
     },
     "metadata": {},
     "output_type": "display_data"
    },
    {
     "data": {
      "image/png": "[encoded data removed]",
      "text/plain": [
       "<matplotlib.figure.Figure at 0x2b88f9ca208>"
      ]
     },
     "metadata": {},
     "output_type": "display_data"
    },
    {
     "data": {
      "image/png": "[encoded data removed]",
      "text/plain": [
       "<matplotlib.figure.Figure at 0x2b88f929c18>"
      ]
     },
     "metadata": {},
     "output_type": "display_data"
    }
   ],
   "source": [
    "plt.figure(1, figsize=(20,20))\n",
    "plt.imshow(conf_mat[0:number_of_labels-1,:])\n",
    "#plt.colorbar()\n",
    "plt.savefig('results/' + timestamp + '/conf_mat.png')\n",
    "\n",
    "plt.figure(2,figsize=(20,20))\n",
    "plt.imshow(conf_mat_rand[0:number_of_labels-1,:])\n",
    "#plt.colorbar()\n",
    "\n",
    "plt.savefig('results/' + timestamp + '/conf_mat_rand.png')\n",
    "\n",
    "plt.figure(3)\n",
    "plt.plot(range(1, 1 + number_of_labels), ret_rand, '*')\n",
    "plt.plot(range(1, 1 + number_of_labels), ret, '*r')\n",
    "plt.xticks(range(1,21))\n",
    "plt.ylim([0, 1])\n",
    "plt.title('basic metric')\n",
    "plt.savefig('results/' + timestamp + '/acc.png')\n",
    "\n",
    "plt.figure(4)\n",
    "plt.plot(range(1, 1 + number_of_labels), precision, '*r')\n",
    "plt.plot(range(1, 1 + number_of_labels), precision_rand, '*')\n",
    "plt.xticks(range(1,21))\n",
    "plt.ylim([0, 1])\n",
    "plt.title('precision')\n",
    "plt.savefig('results/' + timestamp + '/precision.png')\n",
    "\n",
    "plt.figure(5)\n",
    "plt.plot(range(1, 1 + number_of_labels), recall, '*r')\n",
    "plt.plot(range(1, 1 + number_of_labels), recall_rand, '*')\n",
    "plt.xticks(range(1,21))\n",
    "plt.ylim([0, 1])\n",
    "plt.title('recall')\n",
    "plt.savefig('results/' + timestamp + '/recall.png')"
   ]
  },
  {
   "cell_type": "markdown",
   "metadata": {},
   "source": [
    "### labels histogram"
   ]
  },
  {
   "cell_type": "code",
   "execution_count": 40,
   "metadata": {},
   "outputs": [
    {
     "data": {
      "image/png": "[encoded data removed]",
      "text/plain": [
       "<matplotlib.figure.Figure at 0x2b88fe0a0b8>"
      ]
     },
     "metadata": {},
     "output_type": "display_data"
    }
   ],
   "source": [
    "plt.figure(4)\n",
    "plt.hist(labels,rwidth=0.85,bins = range(21) )\n",
    "plt.xticks(range(20))\n",
    "plt.show()"
   ]
  },
  {
   "cell_type": "code",
   "execution_count": 47,
   "metadata": {},
   "outputs": [
    {
     "data": {
      "text/plain": [
       "array([0., 0., 0., 0., 0.])"
      ]
     },
     "execution_count": 47,
     "metadata": {},
     "output_type": "execute_result"
    }
   ],
   "source": [
    "np.zeros(5)"
   ]
  }
 ],
 "metadata": {
  "kernelspec": {
   "display_name": "Python 3",
   "language": "python",
   "name": "python3"
  },
  "language_info": {
   "codemirror_mode": {
    "name": "ipython",
    "version": 3
   },
   "file_extension": ".py",
   "mimetype": "text/x-python",
   "name": "python",
   "nbconvert_exporter": "python",
   "pygments_lexer": "ipython3",
   "version": "3.6.4"
  }
 },
 "nbformat": 4,
 "nbformat_minor": 1
}
