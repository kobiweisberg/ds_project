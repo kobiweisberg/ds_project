{
 "cells": [
  {
   "cell_type": "code",
   "execution_count": 11,
   "metadata": {},
   "outputs": [],
   "source": [
    "from sklearn.datasets import fetch_20newsgroups\n",
    "from pprint import pprint\n",
    "import os\n",
    "import pickle\n",
    "import numpy as np\n",
    "from sklearn.metrics import confusion_matrix\n",
    "import matplotlib.pyplot as plt\n",
    "import time\n",
    "%matplotlib inline"
   ]
  },
  {
   "cell_type": "markdown",
   "metadata": {},
   "source": [
    "import our libaries"
   ]
  },
  {
   "cell_type": "code",
   "execution_count": 12,
   "metadata": {},
   "outputs": [],
   "source": [
    "import preprocess as pp\n",
    "import vectorizer as vr\n",
    "import cluster as clst\n",
    "import analyze as anlz"
   ]
  },
  {
   "cell_type": "code",
   "execution_count": 13,
   "metadata": {},
   "outputs": [],
   "source": [
    "t = time.localtime()\n",
    "timestamp = time.strftime('%b_%d_%Y_%H%M', t)\n",
    "np.random.seed(4)\n",
    "if not os.path.exists('results'):\n",
    "    os.mkdir('results')\n",
    "if not os.path.exists('results/' + timestamp):\n",
    "    os.mkdir('results/' + timestamp)\n",
    "with open('results/' + timestamp +'/log.txt','w') as ff:\n",
    "    with open('main.py', 'r') as fp:\n",
    "        ff.write(fp.read())"
   ]
  },
  {
   "cell_type": "markdown",
   "metadata": {},
   "source": [
    "parmeters"
   ]
  },
  {
   "cell_type": "code",
   "execution_count": 14,
   "metadata": {},
   "outputs": [],
   "source": [
    "min_df = 1e-4#1e-10\n",
    "max_df = 0.05#1\n",
    "k = 100\n",
    "max_num = 1000#len(emails)"
   ]
  },
  {
   "cell_type": "code",
   "execution_count": 15,
   "metadata": {},
   "outputs": [],
   "source": [
    "newsgroups_train = fetch_20newsgroups(subset='train')\n",
    "labels = newsgroups_train.target\n",
    "labels_names = newsgroups_train.target_names\n",
    "#TODO: consider take only body\n",
    "emails = newsgroups_train.data\n",
    "emails = emails[:max_num]"
   ]
  },
  {
   "cell_type": "markdown",
   "metadata": {},
   "source": [
    "preprocess"
   ]
  },
  {
   "cell_type": "code",
   "execution_count": 16,
   "metadata": {},
   "outputs": [],
   "source": [
    "emails = [pp.clean_text(e) for e in emails]"
   ]
  },
  {
   "cell_type": "markdown",
   "metadata": {},
   "source": [
    "vectorizing"
   ]
  },
  {
   "cell_type": "code",
   "execution_count": 17,
   "metadata": {},
   "outputs": [
    {
     "ename": "NameError",
     "evalue": "name 'sample_vec' is not defined",
     "traceback": [
      "\u001b[1;31m---------------------------------------------------------------------------\u001b[0m",
      "\u001b[1;31mNameError\u001b[0m                                 Traceback (most recent call last)",
      "\u001b[1;32m<ipython-input-17-558a15b29307>\u001b[0m in \u001b[0;36m<module>\u001b[1;34m()\u001b[0m\n\u001b[0;32m      1\u001b[0m \u001b[0mcv\u001b[0m\u001b[1;33m,\u001b[0m\u001b[0mtokenized_emails\u001b[0m \u001b[1;33m=\u001b[0m \u001b[0mvr\u001b[0m\u001b[1;33m.\u001b[0m\u001b[0mtokenizer\u001b[0m\u001b[1;33m(\u001b[0m\u001b[0memails\u001b[0m\u001b[1;33m,\u001b[0m\u001b[0mmin_df\u001b[0m\u001b[1;33m,\u001b[0m\u001b[0mmax_df\u001b[0m\u001b[1;33m)\u001b[0m\u001b[1;33m\u001b[0m\u001b[0m\n\u001b[1;32m----> 2\u001b[1;33m \u001b[1;33m{\u001b[0m\u001b[0mk\u001b[0m\u001b[1;33m:\u001b[0m \u001b[0mv\u001b[0m \u001b[1;32mfor\u001b[0m \u001b[0mk\u001b[0m\u001b[1;33m,\u001b[0m \u001b[0mv\u001b[0m \u001b[1;32min\u001b[0m \u001b[0mzip\u001b[0m\u001b[1;33m(\u001b[0m\u001b[0mcv\u001b[0m\u001b[1;33m.\u001b[0m\u001b[0mget_feature_names\u001b[0m\u001b[1;33m(\u001b[0m\u001b[1;33m)\u001b[0m\u001b[1;33m,\u001b[0m \u001b[0msample_vec\u001b[0m\u001b[1;33m.\u001b[0m\u001b[0mtoarray\u001b[0m\u001b[1;33m(\u001b[0m\u001b[1;33m)\u001b[0m\u001b[1;33m[\u001b[0m\u001b[1;36m0\u001b[0m\u001b[1;33m]\u001b[0m\u001b[1;33m)\u001b[0m \u001b[1;32mif\u001b[0m \u001b[0mv\u001b[0m \u001b[1;33m>\u001b[0m \u001b[1;36m0\u001b[0m\u001b[1;33m}\u001b[0m\u001b[1;33m\u001b[0m\u001b[0m\n\u001b[0m\u001b[0;32m      3\u001b[0m \u001b[1;31m# to get vocabulary names use: cv.get_feature_names()\u001b[0m\u001b[1;33m\u001b[0m\u001b[1;33m\u001b[0m\u001b[0m\n\u001b[0;32m      4\u001b[0m \u001b[0mvoc_names\u001b[0m \u001b[1;33m=\u001b[0m \u001b[0mcv\u001b[0m\u001b[1;33m.\u001b[0m\u001b[0mget_feature_names\u001b[0m\u001b[1;33m(\u001b[0m\u001b[1;33m)\u001b[0m\u001b[1;33m\u001b[0m\u001b[0m\n\u001b[0;32m      5\u001b[0m \u001b[1;31m#to get BOW for each mail use: tokenized_emails.toarray()\u001b[0m\u001b[1;33m\u001b[0m\u001b[1;33m\u001b[0m\u001b[0m\n",
      "\u001b[1;31mNameError\u001b[0m: name 'sample_vec' is not defined"
     ],
     "output_type": "error"
    }
   ],
   "source": [
    "cv,tokenized_emails = vr.tokenizer(emails,min_df,max_df)\n",
    "#{k: v for k, v in zip(cv.get_feature_names(), sample_vec.toarray()[0]) if v > 0}\n",
    "# to get vocabulary names use: cv.get_feature_names()\n",
    "voc_names = cv.get_feature_names()\n",
    "#to get BOW for each mail use: tokenized_emails.toarray()\n",
    "emails_representation = tokenized_emails.toarray()"
   ]
  },
  {
   "cell_type": "code",
   "execution_count": null,
   "metadata": {},
   "outputs": [],
   "source": [
    "tf_idf = vr.tf_idf(emails,min_df,max_df)\n",
    "emails_representation = tf_idf.toarray()"
   ]
  },
  {
   "cell_type": "code",
   "execution_count": null,
   "metadata": {},
   "outputs": [],
   "source": [
    "emails_representation = vr.BOW_w2v(emails)"
   ]
  },
  {
   "cell_type": "markdown",
   "metadata": {},
   "source": [
    "clustering"
   ]
  },
  {
   "cell_type": "code",
   "execution_count": null,
   "metadata": {},
   "outputs": [],
   "source": [
    "print('compute kmeans clusters. vector shape:{}'.format(emails_representation.shape[1]))\n",
    "clusters,kmns_class = clst.kmeans_cosine_dist(w2v,k)"
   ]
  },
  {
   "cell_type": "code",
   "execution_count": null,
   "metadata": {},
   "outputs": [],
   "source": [
    "clusters,kmns_class = clst.kmeans(w2v,k)"
   ]
  },
  {
   "cell_type": "code",
   "execution_count": null,
   "metadata": {},
   "outputs": [],
   "source": [
    "(clusters, _) = clst.hirarchical(w2v, k,aff='euclidean',link='ward')"
   ]
  },
  {
   "cell_type": "markdown",
   "metadata": {},
   "source": [
    "analayze"
   ]
  },
  {
   "cell_type": "code",
   "execution_count": null,
   "metadata": {},
   "outputs": [],
   "source": [
    "number_of_labels = 20\n",
    "random_clst = np.random.randint(0, k, max_num)\n",
    "conf_mat_rand = confusion_matrix(labels[:max_num], random_clst)\n",
    "conf_mat = confusion_matrix(labels[:max_num], clusters)\n",
    "\n",
    "\n",
    "plt.figure(1)\n",
    "plt.imshow(conf_mat)\n",
    "plt.savefig('results/' + timestamp + '/conf_mat.png')\n",
    "\n",
    "\n",
    "ret_rand = anlz.evaluate_many2one(conf_mat_rand,number_of_labels)\n",
    "ret = anlz.evaluate_many2one(conf_mat, number_of_labels)\n",
    "print('acc: {} (random={})'.format(np.mean(ret),np.mean(ret_rand)))\n",
    "\n",
    "plt.figure(2)\n",
    "plt.plot(range(1, 1 + number_of_labels), ret_rand, '*')\n",
    "plt.plot(range(1, 1 + number_of_labels), ret, '*r')\n",
    "plt.ylim([0, 1])\n",
    "plt.savefig('results/' + timestamp + '/acc.png')\n",
    "\n",
    "\n",
    "with open('results/' + timestamp + '/kmeans.pkl','wb') as wf:\n",
    "    pickle.dump(conf_mat,wf)\n"
   ]
  }
 ],
 "metadata": {
  "kernelspec": {
   "display_name": "Python 3",
   "language": "python",
   "name": "python3"
  },
  "language_info": {
   "codemirror_mode": {
    "name": "ipython",
    "version": 3
   },
   "file_extension": ".py",
   "mimetype": "text/x-python",
   "name": "python",
   "nbconvert_exporter": "python",
   "pygments_lexer": "ipython3",
   "version": "3.6.4"
  }
 },
 "nbformat": 4,
 "nbformat_minor": 1
}
